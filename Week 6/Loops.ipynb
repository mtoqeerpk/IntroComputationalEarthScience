{
 "cells": [
  {
   "cell_type": "markdown",
   "metadata": {},
   "source": [
    "# Some tips for how to use loops in Python"
   ]
  },
  {
   "cell_type": "code",
   "execution_count": 1,
   "metadata": {
    "collapsed": true
   },
   "outputs": [],
   "source": [
    "import numpy as np"
   ]
  },
  {
   "cell_type": "code",
   "execution_count": 2,
   "metadata": {},
   "outputs": [
    {
     "name": "stdout",
     "output_type": "stream",
     "text": [
      "i =  0  time =  0.0\n",
      "i =  1  time =  1.0\n",
      "i =  2  time =  2.0\n",
      "i =  3  time =  3.0\n",
      "i =  4  time =  4.0\n",
      "i =  5  time =  5.0\n",
      "i =  6  time =  6.0\n",
      "i =  7  time =  7.0\n",
      "i =  8  time =  8.0\n",
      "i =  9  time =  9.0\n",
      "i =  10  time =  10.0\n"
     ]
    }
   ],
   "source": [
    "# Example where the loop variable is an index.\n",
    "#\n",
    "# For many of the finite difference problems in this course, this will be the preferred way to write loops since \n",
    "# you get the index i explicitly\n",
    "\n",
    "\n",
    "# Create an array of 11 floating point numbers:\n",
    "n = 11\n",
    "time = np.linspace(0,10,n)\n",
    "\n",
    "# A loop that prints them out:\n",
    "for i in range(0,n):\n",
    "    print(\"i = \",i,\" time = \",time[i])\n",
    "    \n",
    "# Note than range(0,n) generates a list of integers from 0 up to but not including n. \n",
    "# So \"for i in range(0,n)\" loops over the values in that range."
   ]
  },
  {
   "cell_type": "code",
   "execution_count": 3,
   "metadata": {},
   "outputs": [
    {
     "name": "stdout",
     "output_type": "stream",
     "text": [
      "0.0\n",
      "1.0\n",
      "2.0\n",
      "3.0\n",
      "4.0\n",
      "5.0\n",
      "6.0\n",
      "7.0\n",
      "8.0\n",
      "9.0\n",
      "10.0\n"
     ]
    }
   ],
   "source": [
    "# Looping through values in an array without using an index:\n",
    "time = np.linspace(0,10,11)\n",
    "\n",
    "for t in time:   # this takes the values of t directly out of the array time. Note that t is a value NOT an index\n",
    "    print(t)  \n",
    "\n",
    "# For many of the finite difference problems in our course, this is NOT the way to write your loops!    "
   ]
  },
  {
   "cell_type": "code",
   "execution_count": 4,
   "metadata": {},
   "outputs": [
    {
     "name": "stdout",
     "output_type": "stream",
     "text": [
      "1\n",
      "2\n",
      "3\n",
      "4\n",
      "5\n",
      "6\n",
      "7\n",
      "8\n",
      "9\n",
      "10\n"
     ]
    }
   ],
   "source": [
    "# A simple while loop. The loop stops when count == 10\n",
    "count = 0\n",
    "while count < 10:\n",
    "    count += 1  # this is the same as \"count = count + 1\"\n",
    "    print(count)"
   ]
  },
  {
   "cell_type": "code",
   "execution_count": 5,
   "metadata": {},
   "outputs": [
    {
     "name": "stdout",
     "output_type": "stream",
     "text": [
      "10\n",
      "20\n",
      "30\n",
      "40\n",
      "50\n",
      "60\n",
      "70\n",
      "80\n",
      "90\n",
      "100\n"
     ]
    }
   ],
   "source": [
    "# Similar to the above loop, but this one prints out the value every 10 loop iterations:\n",
    "count = 0\n",
    "while count < 100:\n",
    "    count += 1  # this is the same as \"count = count + 1\"\n",
    "    \n",
    "    if np.mod(count,10) == 0:   #  np.mod(a,b) == 0 when the remainder of a/b is zero. \n",
    "        print(count)"
   ]
  }
 ],
 "metadata": {
  "kernelspec": {
   "display_name": "Python 3",
   "language": "python",
   "name": "python3"
  },
  "language_info": {
   "codemirror_mode": {
    "name": "ipython",
    "version": 3
   },
   "file_extension": ".py",
   "mimetype": "text/x-python",
   "name": "python",
   "nbconvert_exporter": "python",
   "pygments_lexer": "ipython3",
   "version": "3.6.3"
  }
 },
 "nbformat": 4,
 "nbformat_minor": 2
}
