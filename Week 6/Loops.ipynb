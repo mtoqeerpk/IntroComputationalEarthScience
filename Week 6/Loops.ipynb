{
 "cells": [
  {
   "cell_type": "markdown",
   "metadata": {},
   "source": [
    "# Some tips for how to use loops in Python"
   ]
  },
  {
   "cell_type": "code",
   "execution_count": 1,
   "metadata": {
    "collapsed": true
   },
   "outputs": [],
   "source": [
    "import numpy as np"
   ]
  },
  {
   "cell_type": "code",
   "execution_count": 2,
   "metadata": {},
   "outputs": [
    {
     "name": "stdout",
     "output_type": "stream",
     "text": [
      "i =  0  time =  0.0\n",
      "i =  1  time =  1.0\n",
      "i =  2  time =  2.0\n",
      "i =  3  time =  3.0\n",
      "i =  4  time =  4.0\n",
      "i =  5  time =  5.0\n",
      "i =  6  time =  6.0\n",
      "i =  7  time =  7.0\n",
      "i =  8  time =  8.0\n",
      "i =  9  time =  9.0\n",
      "i =  10  time =  10.0\n"
     ]
    }
   ],
   "source": [
    "# Example where the loop variable is an index.\n",
    "#\n",
    "# For many of the finite difference problems in this course, this will be the preferred way to write loops since \n",
    "# you get the index i explicitly\n",
    "\n",
    "\n",
    "# Create an array of 11 floating point numbers:\n",
    "n = 11\n",
    "time = np.linspace(0,10,n)\n",
    "\n",
    "# A loop that prints them out:\n",
    "for i in range(0,n):\n",
    "    print(\"i = \",i,\" time = \",time[i])\n",
    "    \n",
    "# Note than range(0,n) generates a list of integers from 0 up to but not including n. \n",
    "# So \"for i in range(0,n)\" loops over the values in that range."
   ]
  },
  {
   "cell_type": "code",
   "execution_count": 3,
   "metadata": {},
   "outputs": [
    {
     "name": "stdout",
     "output_type": "stream",
     "text": [
      "0.0\n",
      "1.0\n",
      "2.0\n",
      "3.0\n",
      "4.0\n",
      "5.0\n",
      "6.0\n",
      "7.0\n",
      "8.0\n",
      "9.0\n",
      "10.0\n"
     ]
    }
   ],
   "source": [
    "# Looping through values in an array without using an index:\n",
    "time = np.linspace(0,10,11)\n",
    "\n",
    "for t in time:   # this takes the values of t directly out of the array time. Note that t is a value NOT an index\n",
    "    print(t)  \n",
    "\n",
    "# For many of the finite difference problems in our course, this is NOT the way to write your loops!    "
   ]
  },
  {
   "cell_type": "code",
   "execution_count": 4,
   "metadata": {},
   "outputs": [
    {
     "name": "stdout",
     "output_type": "stream",
     "text": [
      "1\n",
      "2\n",
      "3\n",
      "4\n",
      "5\n",
      "6\n",
      "7\n",
      "8\n",
      "9\n",
      "10\n"
     ]
    }
   ],
   "source": [
    "# A simple while loop. The loop stops when count == 10\n",
    "count = 0\n",
    "while count < 10:\n",
    "    count += 1  # this is the same as \"count = count + 1\"\n",
    "    print(count)"
   ]
  },
  {
   "cell_type": "code",
   "execution_count": 5,
   "metadata": {},
   "outputs": [
    {
     "name": "stdout",
     "output_type": "stream",
     "text": [
      "10\n",
      "20\n",
      "30\n",
      "40\n",
      "50\n",
      "60\n",
      "70\n",
      "80\n",
      "90\n",
      "100\n"
     ]
    }
   ],
   "source": [
    "# Similar to the above loop, but this one prints out the value every 10 loop iterations:\n",
    "count = 0\n",
    "while count < 100:\n",
    "    count += 1  # this is the same as \"count = count + 1\"\n",
    "    \n",
    "    if np.mod(count,10) == 0:   #  np.mod(a,b) == 0 when the remainder of a/b is zero. \n",
    "        print(count)"
   ]
  },
  {
   "cell_type": "markdown",
   "metadata": {},
   "source": [
    "# Tip for using logical indices to work on subsets of an array:"
   ]
  },
  {
   "cell_type": "code",
   "execution_count": 6,
   "metadata": {
    "collapsed": true
   },
   "outputs": [],
   "source": [
    "# Create an array:\n",
    "h = np.array([0.1, 0.2, 0, 1.2, 0, 0, 8.9, 4.2])\n",
    "\n",
    "# now suppose we want to create an array u = 1/h. This will blow up for any 0 values in h, so \n",
    "# we should only compute u where h has non-zero value.\n",
    "\n",
    "u = np.zeros_like(h) # creates a zeros array the same size as h\n",
    "\n",
    "# Method 1 (not recommended but it works)\n",
    "for i in range(0,len(u)):\n",
    "    if h[i] != 0:            # \"!=\" is the \"not equal to\" operator.\n",
    "        u[i] = 1.0/h[i]\n",
    "\n",
    "# Method 2 (RECOMMENDED WAY)\n",
    "nonzero = h != 0              # nonzero is a logical array of same dimension as h.\n",
    "u[nonzero] = 1./h[nonzero]   # everywhere nonzero = true, u gets updated to be 1/h.\n",
    "\n",
    "# or you could do this:\n",
    "# u[h!=0] = 1./h[h!=0]\n",
    "\n"
   ]
  },
  {
   "cell_type": "code",
   "execution_count": 7,
   "metadata": {},
   "outputs": [
    {
     "name": "stdout",
     "output_type": "stream",
     "text": [
      "[ 0.1  0.2  0.   1.2  0.   0.   8.9  4.2]\n",
      "[ True  True False  True False False  True  True]\n"
     ]
    }
   ],
   "source": [
    "print(h)\n",
    "print(nonzero)\n"
   ]
  },
  {
   "cell_type": "markdown",
   "metadata": {},
   "source": [
    "# Appending and inserting values into an existing array\n",
    "np.append() and np.insert()"
   ]
  },
  {
   "cell_type": "code",
   "execution_count": 11,
   "metadata": {},
   "outputs": [
    {
     "name": "stdout",
     "output_type": "stream",
     "text": [
      "[1 2 3 4]\n",
      "[1 2 3 4 5 6 7]\n"
     ]
    }
   ],
   "source": [
    "a = np.array([1,2,3])\n",
    "\n",
    "# append values to the END of an array:\n",
    "a = np.append(a,4)\n",
    "print(a)\n",
    "a = np.append(a,[5,6,7])\n",
    "print(a)"
   ]
  },
  {
   "cell_type": "code",
   "execution_count": 18,
   "metadata": {},
   "outputs": [
    {
     "name": "stdout",
     "output_type": "stream",
     "text": [
      "[0 1 2 3 4]\n",
      "[ 0  1  2 11 12 13  3  4]\n"
     ]
    }
   ],
   "source": [
    "a = np.array([2,3,4])\n",
    "\n",
    "# np.insert(array,index,values) inserts [values] starting at the index. \n",
    "# note that this inserts the values into the array, making it longer. \n",
    "\n",
    "# Insert value index 0. \n",
    "a = np.insert(a,0,[0,1])\n",
    "print(a)\n",
    "\n",
    "# Insert some values in the middle of the array:\n",
    "a = np.array([0,1,2,3,4])\n",
    "a = np.insert(a,3,[11,12,13])\n",
    "print(a)"
   ]
  },
  {
   "cell_type": "code",
   "execution_count": null,
   "metadata": {
    "collapsed": true
   },
   "outputs": [],
   "source": []
  }
 ],
 "metadata": {
  "kernelspec": {
   "display_name": "Python 3",
   "language": "python",
   "name": "python3"
  },
  "language_info": {
   "codemirror_mode": {
    "name": "ipython",
    "version": 3
   },
   "file_extension": ".py",
   "mimetype": "text/x-python",
   "name": "python",
   "nbconvert_exporter": "python",
   "pygments_lexer": "ipython3",
   "version": "3.6.3"
  }
 },
 "nbformat": 4,
 "nbformat_minor": 2
}
