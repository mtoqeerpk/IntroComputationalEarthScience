{
 "cells": [
  {
   "cell_type": "markdown",
   "metadata": {},
   "source": [
    "The lessons for this course are designed for students without any prior Python experience. Thus they are a good starting place. However, I highly encourage you to look at other tutorials online. There are lots of them. There are almost always more ways than one to accomplish a certain programming task, and some methods are much better than others. So its good to learn from more than one source.  \n",
    "\n",
    "Here is the [official python tutorial](https://docs.python.org/3/tutorial/).\n",
    "\n",
    "Another good introductory tutorial is available at the Software Carpenty website: http://swcarpentry.github.io/python-novice-inflammation/\n",
    "\n",
    "## Warning about Python Versions ##\n",
    "There are two versions of the python language out there: Python 2 and Python 3. Python 2 is more common in the wild but is now depracated.  We will be using Python 3 in this course. However, be aware that Python 2 is out there; outside of this course you may come across older codes that rely on Python 2 commands that are have been modified for or are no longer available in Python 3.\n",
    "\n",
    "## Jupyter Notebooks## \n",
    "There are two main ways to run Python. You can create a list of Python commands in a text file and then run them by passing the contents of the text file to Python using a command window (aka a terminal shell). The other way, which we will use for this class, is to run an interactive Python (aka iPython) window. Here we will use a Jupyter Notebook, which is what this page is (with extension .ipynb - short for iPython notebook). The notebook is great when you are creating short codes for teaching and tutorials, since you can execute code line by line and intersperse the commands with text sections (like this one) as well as displaying figures and graphics inline in the notebook.\n",
    "\n",
    "You can startup the Jupyter notebook application by opening Anaconda Navigator on your computer, clicking the home button, then the launch button under the Jupyter Notebook panel. This will open up a terminal shell, which then opens up a web browser window running Jupyter. While all of our interactive coding will be done using the web broswer, it is important that you don't close the terminal shell, since it is required to keep Jupyter running.\n",
    "\n",
    "Click on the \"new\" button near the upper right to create a new Python 3 notebook, like this one.\n",
    "\n",
    "---\n",
    "\n",
    "## Entering Commands ##\n",
    "\n",
    "The notebook works by entering commands into cells. You then hit \"shift-return\" to tell Jupyter to execute the commands in the currently selected cell.  By default cells are *Code* cells, where Jupyter expects the cell to contain Python commands. However, you can use the Cell menu to change the Cell Type to *Markdown*, which is a simple text format and what is used to make the text in this cell.\n",
    "\n",
    "---\n",
    "\n",
    "## Simple Math##\n",
    "You can use this notebook as a simple calculator. For example:"
   ]
  },
  {
   "cell_type": "code",
   "execution_count": 1,
   "metadata": {},
   "outputs": [
    {
     "data": {
      "text/plain": [
       "-1"
      ]
     },
     "execution_count": 1,
     "metadata": {},
     "output_type": "execute_result"
    }
   ],
   "source": [
    "1+2-4"
   ]
  },
  {
   "cell_type": "code",
   "execution_count": 2,
   "metadata": {},
   "outputs": [
    {
     "data": {
      "text/plain": [
       "3"
      ]
     },
     "execution_count": 2,
     "metadata": {},
     "output_type": "execute_result"
    }
   ],
   "source": [
    "# Addition\n",
    "1+2"
   ]
  },
  {
   "cell_type": "code",
   "execution_count": 3,
   "metadata": {},
   "outputs": [],
   "source": [
    "# Note that anything to the right of a # symbol is considered comment and will be ignored by Python.\n",
    "# This line is another comment line. "
   ]
  },
  {
   "cell_type": "code",
   "execution_count": 4,
   "metadata": {},
   "outputs": [
    {
     "data": {
      "text/plain": [
       "6"
      ]
     },
     "execution_count": 4,
     "metadata": {},
     "output_type": "execute_result"
    }
   ],
   "source": [
    "# Multiplication \n",
    "2*3"
   ]
  },
  {
   "cell_type": "code",
   "execution_count": 5,
   "metadata": {},
   "outputs": [
    {
     "data": {
      "text/plain": [
       "0.3333333333333333"
      ]
     },
     "execution_count": 5,
     "metadata": {},
     "output_type": "execute_result"
    }
   ],
   "source": [
    "# Division\n",
    "1/3"
   ]
  },
  {
   "cell_type": "markdown",
   "metadata": {},
   "source": [
    "Python will strictly follow mathematical order of operations. Remember PEMDAS:\n",
    "- Parentheses\n",
    "- Exponents\n",
    "- Multiplication and Division\n",
    "- Addition and Subtraction\n",
    "\n",
    "For example:"
   ]
  },
  {
   "cell_type": "code",
   "execution_count": 6,
   "metadata": {},
   "outputs": [
    {
     "data": {
      "text/plain": [
       "17"
      ]
     },
     "execution_count": 6,
     "metadata": {},
     "output_type": "execute_result"
    }
   ],
   "source": [
    "4+5*3-2"
   ]
  },
  {
   "cell_type": "code",
   "execution_count": 7,
   "metadata": {},
   "outputs": [
    {
     "data": {
      "text/plain": [
       "9"
      ]
     },
     "execution_count": 7,
     "metadata": {},
     "output_type": "execute_result"
    }
   ],
   "source": [
    "4+5*(3-2)"
   ]
  },
  {
   "cell_type": "markdown",
   "metadata": {},
   "source": [
    "Python ignores spaced between the values and the operators. For example, the command below produces the same answer as the command above."
   ]
  },
  {
   "cell_type": "code",
   "execution_count": 8,
   "metadata": {},
   "outputs": [
    {
     "data": {
      "text/plain": [
       "9"
      ]
     },
     "execution_count": 8,
     "metadata": {},
     "output_type": "execute_result"
    }
   ],
   "source": [
    "4 + 5 * (3 -2)"
   ]
  },
  {
   "cell_type": "markdown",
   "metadata": {},
   "source": [
    "You can also break up a long equation into more than one line using the backslash symbol \\ at the end of each line. This tells Python that your commands continue onto the next line."
   ]
  },
  {
   "cell_type": "code",
   "execution_count": 9,
   "metadata": {},
   "outputs": [
    {
     "data": {
      "text/plain": [
       "9"
      ]
     },
     "execution_count": 9,
     "metadata": {},
     "output_type": "execute_result"
    }
   ],
   "source": [
    "4 + 5 \\\n",
    "*(3-2)"
   ]
  },
  {
   "cell_type": "markdown",
   "metadata": {},
   "source": [
    "Exponents (or powers) are specified use two asterisks like this: **. For example, to raise two to the power 3, i.e. $2^3$, you use:"
   ]
  },
  {
   "cell_type": "code",
   "execution_count": 10,
   "metadata": {},
   "outputs": [
    {
     "data": {
      "text/plain": [
       "8"
      ]
     },
     "execution_count": 10,
     "metadata": {},
     "output_type": "execute_result"
    }
   ],
   "source": [
    "2**3"
   ]
  },
  {
   "cell_type": "markdown",
   "metadata": {},
   "source": [
    "You can also use decimal exponents. For example to compute $25^{\\frac{1}{2}}$:"
   ]
  },
  {
   "cell_type": "code",
   "execution_count": 11,
   "metadata": {},
   "outputs": [
    {
     "data": {
      "text/plain": [
       "5.0"
      ]
     },
     "execution_count": 11,
     "metadata": {},
     "output_type": "execute_result"
    }
   ],
   "source": [
    "25**0.5"
   ]
  },
  {
   "cell_type": "code",
   "execution_count": 12,
   "metadata": {},
   "outputs": [
    {
     "data": {
      "text/plain": [
       "12.5"
      ]
     },
     "execution_count": 12,
     "metadata": {},
     "output_type": "execute_result"
    }
   ],
   "source": [
    "# Be careful when using fractions as exponents:\n",
    "25**1/2"
   ]
  },
  {
   "cell_type": "code",
   "execution_count": 13,
   "metadata": {},
   "outputs": [
    {
     "data": {
      "text/plain": [
       "5.0"
      ]
     },
     "execution_count": 13,
     "metadata": {},
     "output_type": "execute_result"
    }
   ],
   "source": [
    "# that was not intended! Remember PEMDAS. The exponent is computed before the division.\n",
    "# Use parentheses instead to get the intended square root:\n",
    "25**(1/2)"
   ]
  },
  {
   "cell_type": "code",
   "execution_count": 14,
   "metadata": {},
   "outputs": [
    {
     "data": {
      "text/plain": [
       "1"
      ]
     },
     "execution_count": 14,
     "metadata": {},
     "output_type": "execute_result"
    }
   ],
   "source": [
    "# you can round numbers using:\n",
    "round(2/3)"
   ]
  },
  {
   "cell_type": "markdown",
   "metadata": {},
   "source": [
    "You can also use scientific notation for numbers. In most programming languages, the character e (or E) is shorthand for ten to some power, such as $10^x$. For example,  $10^6$ can be entered as 1e6."
   ]
  },
  {
   "cell_type": "code",
   "execution_count": 15,
   "metadata": {},
   "outputs": [
    {
     "data": {
      "text/plain": [
       "1000000.0"
      ]
     },
     "execution_count": 15,
     "metadata": {},
     "output_type": "execute_result"
    }
   ],
   "source": [
    "1e6"
   ]
  },
  {
   "cell_type": "code",
   "execution_count": 16,
   "metadata": {},
   "outputs": [
    {
     "data": {
      "text/plain": [
       "1000000.0"
      ]
     },
     "execution_count": 16,
     "metadata": {},
     "output_type": "execute_result"
    }
   ],
   "source": [
    "# or you could use this syntax, but it requires a typing three more characters:\n",
    "10.**6"
   ]
  },
  {
   "cell_type": "code",
   "execution_count": 17,
   "metadata": {},
   "outputs": [
    {
     "data": {
      "text/plain": [
       "745189124981.0"
      ]
     },
     "execution_count": 17,
     "metadata": {},
     "output_type": "execute_result"
    }
   ],
   "source": [
    "# or the more complicated number 745,189,124,981:\n",
    ".745189124981e12"
   ]
  },
  {
   "cell_type": "code",
   "execution_count": 18,
   "metadata": {},
   "outputs": [
    {
     "data": {
      "text/plain": [
       "8.85418782e-12"
      ]
     },
     "execution_count": 18,
     "metadata": {},
     "output_type": "execute_result"
    }
   ],
   "source": [
    "# Scientific notation is also helpful for very small numbers:\n",
    "8.85418782e-12"
   ]
  },
  {
   "cell_type": "markdown",
   "metadata": {},
   "source": [
    "---\n",
    "## Number Variables##\n",
    "In computer programming, a variable is used to store data, usually as numbers or characters.  "
   ]
  },
  {
   "cell_type": "code",
   "execution_count": 19,
   "metadata": {},
   "outputs": [],
   "source": [
    "# Here we create variables a and b and assign them some values:\n",
    "a = 4\n",
    "b = 10"
   ]
  },
  {
   "cell_type": "code",
   "execution_count": 20,
   "metadata": {},
   "outputs": [
    {
     "data": {
      "text/plain": [
       "40"
      ]
     },
     "execution_count": 20,
     "metadata": {},
     "output_type": "execute_result"
    }
   ],
   "source": [
    "# then we can use the variables in calculations:\n",
    "a*b"
   ]
  },
  {
   "cell_type": "code",
   "execution_count": 21,
   "metadata": {},
   "outputs": [
    {
     "data": {
      "text/plain": [
       "9"
      ]
     },
     "execution_count": 21,
     "metadata": {},
     "output_type": "execute_result"
    }
   ],
   "source": [
    "a=4; b=5; c=3; d=2\n",
    "a+b*(c-d)"
   ]
  },
  {
   "cell_type": "code",
   "execution_count": 22,
   "metadata": {},
   "outputs": [],
   "source": [
    "# you can also define a variable using other variables:\n",
    "c = a*b"
   ]
  },
  {
   "cell_type": "code",
   "execution_count": 23,
   "metadata": {},
   "outputs": [
    {
     "name": "stdout",
     "output_type": "stream",
     "text": [
      "20\n"
     ]
    }
   ],
   "source": [
    "# Use the print function to see the value of c:\n",
    "print(c)"
   ]
  },
  {
   "cell_type": "code",
   "execution_count": 24,
   "metadata": {},
   "outputs": [
    {
     "data": {
      "text/plain": [
       "2"
      ]
     },
     "execution_count": 24,
     "metadata": {},
     "output_type": "execute_result"
    }
   ],
   "source": [
    "# You can reassign existing variables:\n",
    "a = 1\n",
    "b = 2\n",
    "a*b"
   ]
  },
  {
   "cell_type": "code",
   "execution_count": 25,
   "metadata": {},
   "outputs": [
    {
     "name": "stdout",
     "output_type": "stream",
     "text": [
      "Variable   Type    Data/Info\n",
      "----------------------------\n",
      "a          int     1\n",
      "b          int     2\n",
      "c          int     20\n",
      "d          int     2\n"
     ]
    }
   ],
   "source": [
    "# Use the %whos command to see what variables currently exist in iPython's memory:\n",
    "%whos"
   ]
  },
  {
   "cell_type": "code",
   "execution_count": 26,
   "metadata": {},
   "outputs": [],
   "source": [
    "# occasionally you may want to delete one or more variables. Use the del command:\n",
    "del a, b\n"
   ]
  },
  {
   "cell_type": "code",
   "execution_count": 27,
   "metadata": {},
   "outputs": [
    {
     "name": "stdout",
     "output_type": "stream",
     "text": [
      "Variable   Type    Data/Info\n",
      "----------------------------\n",
      "c          int     20\n",
      "d          int     2\n"
     ]
    }
   ],
   "source": [
    "%whos"
   ]
  },
  {
   "cell_type": "code",
   "execution_count": 28,
   "metadata": {},
   "outputs": [
    {
     "name": "stdout",
     "output_type": "stream",
     "text": [
      "11\n"
     ]
    }
   ],
   "source": [
    "# You can also update the value of a variable using its current value along with \n",
    "# one or more mathematical operations: \n",
    "i = 10\n",
    "i = i + 1\n",
    "print(i)"
   ]
  },
  {
   "cell_type": "markdown",
   "metadata": {},
   "source": [
    "Note that variable names are case sensitive. *A* is a different variable than *a*:"
   ]
  },
  {
   "cell_type": "code",
   "execution_count": 29,
   "metadata": {},
   "outputs": [
    {
     "ename": "NameError",
     "evalue": "name 'A' is not defined",
     "output_type": "error",
     "traceback": [
      "\u001b[0;31m---------------------------------------------------------------------------\u001b[0m",
      "\u001b[0;31mNameError\u001b[0m                                 Traceback (most recent call last)",
      "\u001b[0;32m<ipython-input-29-7d157d7c000a>\u001b[0m in \u001b[0;36m<module>\u001b[0;34m()\u001b[0m\n\u001b[0;32m----> 1\u001b[0;31m \u001b[0mA\u001b[0m\u001b[0;34m\u001b[0m\u001b[0m\n\u001b[0m",
      "\u001b[0;31mNameError\u001b[0m: name 'A' is not defined"
     ]
    }
   ],
   "source": [
    "A"
   ]
  },
  {
   "cell_type": "markdown",
   "metadata": {},
   "source": [
    "Variable names must begin with a letter and not a number, but after the first character they can have any combinations of letters and numbers, as well as underscores _. You can not use any other character in a variable name.\n",
    "\n",
    "In general, its a good idea to pick variable names that will help you understand what your code is doing. This is especially important when you have tens or hundreds of variables in a code or when you code may be hundreds or thousands of lines long and keeping track of what each variable does could be challenging; use its name offer  a helpful clue.\n",
    "\n",
    "**Good variable names:**\n",
    "\n",
    "- soundSpeed\n",
    "- initial_temperature\n",
    "- oceanDepth\n",
    "- a\n",
    "- b\n",
    "- c\n",
    "\n",
    "\n",
    "**Bad/confusing variable names:**\n",
    "\n",
    "- soSp\n",
    "- in_tem\n",
    "- od\n",
    "- a13492\n",
    "- variableNamesThatAreReallyReallyReallyReallyReallyLong\n",
    "\n",
    "\n",
    "\n",
    "** Illegal variable names: **\n",
    "\n",
    "- 1alpha\n",
    "- .nope\n",
    "- #NotGoingToWork\n",
    "- I.am.an.illegal.variable"
   ]
  },
  {
   "cell_type": "markdown",
   "metadata": {},
   "source": [
    "---\n",
    "## String Variables ##\n",
    "A string variable is simply a variable that holds one or more characters. You can think of them as a continous strings of characters, where even the spaces are a character. String variables a defined by enclosing the characters using either single quotes '' or double quotes \"\".  "
   ]
  },
  {
   "cell_type": "code",
   "execution_count": 30,
   "metadata": {},
   "outputs": [],
   "source": [
    "name = \"Kerry\""
   ]
  },
  {
   "cell_type": "code",
   "execution_count": 31,
   "metadata": {},
   "outputs": [],
   "source": [
    "city = 'New York'"
   ]
  },
  {
   "cell_type": "code",
   "execution_count": 32,
   "metadata": {},
   "outputs": [
    {
     "name": "stdout",
     "output_type": "stream",
     "text": [
      "Kerry\n",
      "New York\n"
     ]
    }
   ],
   "source": [
    "# Print them using the print() function:\n",
    "print(name)\n",
    "print(city)"
   ]
  },
  {
   "cell_type": "code",
   "execution_count": 33,
   "metadata": {},
   "outputs": [
    {
     "name": "stdout",
     "output_type": "stream",
     "text": [
      "Hello World\n"
     ]
    }
   ],
   "source": [
    "# You can also directly print text using the print() function:\n",
    "print('Hello World')"
   ]
  },
  {
   "cell_type": "code",
   "execution_count": 34,
   "metadata": {},
   "outputs": [
    {
     "name": "stdout",
     "output_type": "stream",
     "text": [
      "Kerry New York\n"
     ]
    }
   ],
   "source": [
    "# You can also combine variables in a print statement:\n",
    "print(name, city)"
   ]
  },
  {
   "cell_type": "code",
   "execution_count": 35,
   "metadata": {},
   "outputs": [
    {
     "name": "stdout",
     "output_type": "stream",
     "text": [
      "My name is Kerry\n"
     ]
    }
   ],
   "source": [
    "# Here's another way to use a print statement:\n",
    "print('My name is',name)"
   ]
  },
  {
   "cell_type": "code",
   "execution_count": 36,
   "metadata": {},
   "outputs": [
    {
     "data": {
      "text/plain": [
       "'abcdef'"
      ]
     },
     "execution_count": 36,
     "metadata": {},
     "output_type": "execute_result"
    }
   ],
   "source": [
    "# You can also combine (aka concatenate) strings using the + operator:\n",
    "part1 = 'abc'\n",
    "part2 = 'def'\n",
    "part1 + part2"
   ]
  },
  {
   "cell_type": "code",
   "execution_count": 37,
   "metadata": {},
   "outputs": [
    {
     "name": "stdout",
     "output_type": "stream",
     "text": [
      "don't\n"
     ]
    }
   ],
   "source": [
    "# If you want to have a character string with an apostrophe, \n",
    "# then use double quotes to deinfe the string:\n",
    "do_not = \"don't\"\n",
    "print(do_not)"
   ]
  },
  {
   "cell_type": "code",
   "execution_count": 38,
   "metadata": {},
   "outputs": [
    {
     "name": "stdout",
     "output_type": "stream",
     "text": [
      " \"Most good programmers do programming not because \n",
      "  they expect to get paid or get adulation by the public,\n",
      "  but because it is fun to program.\" \n",
      "  - Linus Torvalds \n"
     ]
    }
   ],
   "source": [
    "# If you have a really long character string, you can break it up into multiple lines\n",
    "# using triple quotes (single or double):\n",
    "quote_string = ''' \"Most good programmers do programming not because \n",
    "  they expect to get paid or get adulation by the public,\n",
    "  but because it is fun to program.\" \n",
    "  - Linus Torvalds ''' \n",
    "print(quote_string)"
   ]
  },
  {
   "cell_type": "markdown",
   "metadata": {},
   "source": [
    " ---\n",
    " ## NumPy - Numerical Python ##\n",
    "So far we have just been using commands that are availabe in the basic core python package. Now we will learn how to import and use our first add-on package. The particular package we will import is called NumPy, short for numerical python. It is one of the most important packages for scientific computing with Python.  To use NumPy, you first must import it into the workspace:"
   ]
  },
  {
   "cell_type": "code",
   "execution_count": 39,
   "metadata": {},
   "outputs": [],
   "source": [
    " import numpy as np"
   ]
  },
  {
   "cell_type": "markdown",
   "metadata": {},
   "source": [
    "Here we imported the package numpy. Also, we renamed it to *np* using \"as np\".  The reason for renaming it to a shorter two-letter name will become evident below. Now type \"whos\" to see what this did:"
   ]
  },
  {
   "cell_type": "code",
   "execution_count": 40,
   "metadata": {
    "scrolled": true
   },
   "outputs": [
    {
     "name": "stdout",
     "output_type": "stream",
     "text": [
      "Variable       Type      Data/Info\n",
      "----------------------------------\n",
      "c              int       20\n",
      "city           str       New York\n",
      "d              int       2\n",
      "do_not         str       don't\n",
      "i              int       11\n",
      "name           str       Kerry\n",
      "np             module    <module 'numpy' from '/an<...>kages/numpy/__init__.py'>\n",
      "part1          str       abc\n",
      "part2          str       def\n",
      "quote_string   str        \"Most good programmers d<...>m.\" \\n  - Linus Torvalds \n"
     ]
    }
   ],
   "source": [
    "whos"
   ]
  },
  {
   "cell_type": "markdown",
   "metadata": {},
   "source": [
    "You can see that we now have a module named numpy in the workspace and it is stored in variable *np*. Rather than giving you a full tour of numpy, here we will just start using some of its functions so that you can get familiar with the syntax of using module functions rather than getting overwhelmed by the details.\n",
    "\n",
    "### Some math functions in numpy:"
   ]
  },
  {
   "cell_type": "code",
   "execution_count": 41,
   "metadata": {},
   "outputs": [
    {
     "data": {
      "text/plain": [
       "9.0"
      ]
     },
     "execution_count": 41,
     "metadata": {},
     "output_type": "execute_result"
    }
   ],
   "source": [
    "# Numpy has all the common math functions. For example, here's how to compute a square root:\n",
    "np.sqrt(81)"
   ]
  },
  {
   "cell_type": "code",
   "execution_count": 42,
   "metadata": {},
   "outputs": [
    {
     "data": {
      "text/plain": [
       "2.0"
      ]
     },
     "execution_count": 42,
     "metadata": {},
     "output_type": "execute_result"
    }
   ],
   "source": [
    "# absolute value:\n",
    "np.abs(2.0)"
   ]
  },
  {
   "cell_type": "markdown",
   "metadata": {},
   "source": [
    "Exponentiation  $e^x$:"
   ]
  },
  {
   "cell_type": "code",
   "execution_count": 43,
   "metadata": {},
   "outputs": [
    {
     "data": {
      "text/plain": [
       "2.7182818284590451"
      ]
     },
     "execution_count": 43,
     "metadata": {},
     "output_type": "execute_result"
    }
   ],
   "source": [
    "np.exp(1)"
   ]
  },
  {
   "cell_type": "code",
   "execution_count": 44,
   "metadata": {},
   "outputs": [
    {
     "data": {
      "text/plain": [
       "0.69314718055994529"
      ]
     },
     "execution_count": 44,
     "metadata": {},
     "output_type": "execute_result"
    }
   ],
   "source": [
    "# logarithm, base exp(1)\n",
    "np.log(2)"
   ]
  },
  {
   "cell_type": "code",
   "execution_count": 45,
   "metadata": {},
   "outputs": [
    {
     "data": {
      "text/plain": [
       "2.0"
      ]
     },
     "execution_count": 45,
     "metadata": {},
     "output_type": "execute_result"
    }
   ],
   "source": [
    "# logarithm, base 10:\n",
    "np.log10(100)"
   ]
  },
  {
   "cell_type": "code",
   "execution_count": 46,
   "metadata": {},
   "outputs": [
    {
     "data": {
      "text/plain": [
       "3.141592653589793"
      ]
     },
     "execution_count": 46,
     "metadata": {},
     "output_type": "execute_result"
    }
   ],
   "source": [
    "# You can get the value of pi using:\n",
    "np.pi"
   ]
  },
  {
   "cell_type": "code",
   "execution_count": 47,
   "metadata": {},
   "outputs": [
    {
     "data": {
      "text/plain": [
       "0.70710678118654746"
      ]
     },
     "execution_count": 47,
     "metadata": {},
     "output_type": "execute_result"
    }
   ],
   "source": [
    "# sine:\n",
    "np.sin(np.pi/4)"
   ]
  },
  {
   "cell_type": "code",
   "execution_count": 48,
   "metadata": {},
   "outputs": [
    {
     "data": {
      "text/plain": [
       "0.70710678118654757"
      ]
     },
     "execution_count": 48,
     "metadata": {},
     "output_type": "execute_result"
    }
   ],
   "source": [
    "# cosine:\n",
    "np.cos(np.pi/4)"
   ]
  },
  {
   "cell_type": "markdown",
   "metadata": {},
   "source": [
    "Note that the trigonometric functions expect their arguments to be in radians, not degrees. To make it easy to convert from degrees to radians, or vice versa, numpy has the following functions:"
   ]
  },
  {
   "cell_type": "code",
   "execution_count": 49,
   "metadata": {},
   "outputs": [
    {
     "data": {
      "text/plain": [
       "3.1415926535897931"
      ]
     },
     "execution_count": 49,
     "metadata": {},
     "output_type": "execute_result"
    }
   ],
   "source": [
    "# degrees to radians:\n",
    "np.deg2rad(180)"
   ]
  },
  {
   "cell_type": "code",
   "execution_count": 50,
   "metadata": {},
   "outputs": [
    {
     "data": {
      "text/plain": [
       "180.0"
      ]
     },
     "execution_count": 50,
     "metadata": {},
     "output_type": "execute_result"
    }
   ],
   "source": [
    "# radians to degrees:\n",
    "np.rad2deg(np.pi)"
   ]
  },
  {
   "cell_type": "code",
   "execution_count": 51,
   "metadata": {},
   "outputs": [
    {
     "data": {
      "text/plain": [
       "1.0"
      ]
     },
     "execution_count": 51,
     "metadata": {},
     "output_type": "execute_result"
    }
   ],
   "source": [
    "# So to compute the sine of a value in degrees, you can nest to the two functions:\n",
    "np.sin(np.deg2rad(90))"
   ]
  },
  {
   "cell_type": "code",
   "execution_count": 52,
   "metadata": {},
   "outputs": [
    {
     "data": {
      "text/plain": [
       "0.99999999999999989"
      ]
     },
     "execution_count": 52,
     "metadata": {},
     "output_type": "execute_result"
    }
   ],
   "source": [
    "# tangent:\n",
    "np.tan(np.pi/4)"
   ]
  },
  {
   "cell_type": "markdown",
   "metadata": {},
   "source": [
    "What's going on here? On my laptop np.tan(np.pi/4) returned 0.99999999999999989, rather than the expected value of 1.0. This is because modern computers and programming languages represent floating point numbers using 15 digits of precision. This is almost always good enough for numerical and scientific calculations.  For all practical purposes, 0.99999999999999989 is the same as 1.0."
   ]
  },
  {
   "cell_type": "code",
   "execution_count": 53,
   "metadata": {},
   "outputs": [
    {
     "data": {
      "text/plain": [
       "1.5707963267948966"
      ]
     },
     "execution_count": 53,
     "metadata": {},
     "output_type": "execute_result"
    }
   ],
   "source": [
    "# inverse sine or arcsine:\n",
    "np.arcsin(1)"
   ]
  },
  {
   "cell_type": "code",
   "execution_count": 54,
   "metadata": {},
   "outputs": [
    {
     "data": {
      "text/plain": [
       "90.0"
      ]
     },
     "execution_count": 54,
     "metadata": {},
     "output_type": "execute_result"
    }
   ],
   "source": [
    "np.rad2deg(np.arcsin(1))"
   ]
  },
  {
   "cell_type": "markdown",
   "metadata": {},
   "source": [
    "---\n",
    "### Arrays in Numpy ##\n",
    "The main objects used to store number variables in Numpy are arrays. Arrays are long lists of numbers stored as row vectors, column vectors or as a matrix.  They are called ndarrays in numpy."
   ]
  },
  {
   "cell_type": "code",
   "execution_count": 55,
   "metadata": {},
   "outputs": [
    {
     "data": {
      "text/plain": [
       "array([1, 2, 3, 4, 5, 6])"
      ]
     },
     "execution_count": 55,
     "metadata": {},
     "output_type": "execute_result"
    }
   ],
   "source": [
    "# define an array of some numbers\n",
    "np.array([1,2,3,4,5,6])"
   ]
  },
  {
   "cell_type": "code",
   "execution_count": 56,
   "metadata": {},
   "outputs": [],
   "source": [
    "# store array as a variable:\n",
    "a = np.array([1, 2, 3, 4, 5, 6])"
   ]
  },
  {
   "cell_type": "code",
   "execution_count": 57,
   "metadata": {},
   "outputs": [
    {
     "data": {
      "text/plain": [
       "numpy.ndarray"
      ]
     },
     "execution_count": 57,
     "metadata": {},
     "output_type": "execute_result"
    }
   ],
   "source": [
    "type(a)"
   ]
  },
  {
   "cell_type": "code",
   "execution_count": 58,
   "metadata": {},
   "outputs": [
    {
     "data": {
      "text/plain": [
       "1"
      ]
     },
     "execution_count": 58,
     "metadata": {},
     "output_type": "execute_result"
    }
   ],
   "source": [
    "# you can access elements of an array using index notation. Note that unlike MATLAB, \n",
    "# Python indexes start with 0 rather than 1. So the first element is at index 0.\n",
    "a[0]"
   ]
  },
  {
   "cell_type": "code",
   "execution_count": 59,
   "metadata": {},
   "outputs": [
    {
     "data": {
      "text/plain": [
       "array([2, 3, 4])"
      ]
     },
     "execution_count": 59,
     "metadata": {},
     "output_type": "execute_result"
    }
   ],
   "source": [
    "# One helpful way to think about this is that you the index is actually the offset \n",
    "# from the first value.  So 0 means the first value, 1 means the second value \n",
    "# (i.e. starting offset plus 1), etc\n",
    "#\n",
    "# you can use colon notation to retrieved multiple elements from an array. \n",
    "# for example, let's retrieve elements 2 through 4:\n",
    "a[1:4]"
   ]
  },
  {
   "cell_type": "markdown",
   "metadata": {},
   "source": [
    "Note that the colon notation is `array[start:stop]`. This retrieves the values from offset `start` and goes up to, **but not including**, `stop`.  If you are used to coding in MATLAB, this different indexing behaviour will drive you nuts at first, but over time you will get used to it."
   ]
  },
  {
   "cell_type": "code",
   "execution_count": 60,
   "metadata": {},
   "outputs": [
    {
     "data": {
      "text/plain": [
       "array([ 1,  4,  9, 16, 25, 36])"
      ]
     },
     "execution_count": 60,
     "metadata": {},
     "output_type": "execute_result"
    }
   ],
   "source": [
    "# A major advantage of arrays, is that you can apply mathematical operations\n",
    "# to the array values all at once. \n",
    "a**2"
   ]
  },
  {
   "cell_type": "code",
   "execution_count": 61,
   "metadata": {},
   "outputs": [
    {
     "data": {
      "text/plain": [
       "array([ 1.        ,  1.41421356,  1.73205081,  2.        ,  2.23606798,\n",
       "        2.44948974])"
      ]
     },
     "execution_count": 61,
     "metadata": {},
     "output_type": "execute_result"
    }
   ],
   "source": [
    "np.sqrt(a)"
   ]
  },
  {
   "cell_type": "code",
   "execution_count": 62,
   "metadata": {},
   "outputs": [
    {
     "data": {
      "text/plain": [
       "6"
      ]
     },
     "execution_count": 62,
     "metadata": {},
     "output_type": "execute_result"
    }
   ],
   "source": [
    "# Get the size, or length, of an array:\n",
    "np.size(a)"
   ]
  },
  {
   "cell_type": "markdown",
   "metadata": {},
   "source": [
    "### 2D Arrays ###\n",
    "You can create a two-dimensional (2D) array by enclosing each row of the array in square brackets. \n",
    "If you aren't familiar with 2D arrays, think of them like a rectangular grid of cells with a value \n",
    "stored in each cell."
   ]
  },
  {
   "cell_type": "code",
   "execution_count": 63,
   "metadata": {},
   "outputs": [
    {
     "data": {
      "text/plain": [
       "array([[0, 1, 2, 3],\n",
       "       [4, 5, 6, 7]])"
      ]
     },
     "execution_count": 63,
     "metadata": {},
     "output_type": "execute_result"
    }
   ],
   "source": [
    "np.array([ [0,1,2,3],[4,5,6,7] ])"
   ]
  },
  {
   "cell_type": "markdown",
   "metadata": {},
   "source": [
    "Note that each row is stored in brackets, and then both rows are enclosed with brackets. Also notice that if you omit one of outer brackets when typing in the expression, you will see a red bracket or parentheses, which warns you that there is an un-closed bracket (or parentheses) in the expression."
   ]
  },
  {
   "cell_type": "code",
   "execution_count": 64,
   "metadata": {},
   "outputs": [
    {
     "ename": "SyntaxError",
     "evalue": "invalid syntax (<ipython-input-64-fbddaee8cf1a>, line 1)",
     "output_type": "error",
     "traceback": [
      "\u001b[0;36m  File \u001b[0;32m\"<ipython-input-64-fbddaee8cf1a>\"\u001b[0;36m, line \u001b[0;32m1\u001b[0m\n\u001b[0;31m    np.array([ [0,1,2,3],[4,5,6,7])\u001b[0m\n\u001b[0m                                  ^\u001b[0m\n\u001b[0;31mSyntaxError\u001b[0m\u001b[0;31m:\u001b[0m invalid syntax\n"
     ]
    }
   ],
   "source": [
    "np.array([ [0,1,2,3],[4,5,6,7])"
   ]
  },
  {
   "cell_type": "markdown",
   "metadata": {},
   "source": [
    "You can access elements in a 2D array using the notation `array[row(s),column(s)]`."
   ]
  },
  {
   "cell_type": "code",
   "execution_count": 65,
   "metadata": {},
   "outputs": [
    {
     "data": {
      "text/plain": [
       "0"
      ]
     },
     "execution_count": 65,
     "metadata": {},
     "output_type": "execute_result"
    }
   ],
   "source": [
    "b = np.array([ [0,1,2,3],[4,5,6,7]])\n",
    "b[0,0]"
   ]
  },
  {
   "cell_type": "code",
   "execution_count": 66,
   "metadata": {},
   "outputs": [
    {
     "data": {
      "text/plain": [
       "3"
      ]
     },
     "execution_count": 66,
     "metadata": {},
     "output_type": "execute_result"
    }
   ],
   "source": [
    "b[0,3]"
   ]
  },
  {
   "cell_type": "code",
   "execution_count": 67,
   "metadata": {},
   "outputs": [
    {
     "data": {
      "text/plain": [
       "array([4, 5, 6])"
      ]
     },
     "execution_count": 67,
     "metadata": {},
     "output_type": "execute_result"
    }
   ],
   "source": [
    "# Using colon notation you can access many elements. \n",
    "# Rember you only get up to, but not including the stop index.\n",
    "b[1,0:3]"
   ]
  },
  {
   "cell_type": "markdown",
   "metadata": {},
   "source": [
    "You can use a colon on its own to extract a slice of an array:"
   ]
  },
  {
   "cell_type": "code",
   "execution_count": 68,
   "metadata": {},
   "outputs": [
    {
     "data": {
      "text/plain": [
       "array([0, 4])"
      ]
     },
     "execution_count": 68,
     "metadata": {},
     "output_type": "execute_result"
    }
   ],
   "source": [
    "# extract the first column of the array:\n",
    "b[:,0]"
   ]
  },
  {
   "cell_type": "code",
   "execution_count": 69,
   "metadata": {},
   "outputs": [
    {
     "data": {
      "text/plain": [
       "array([4, 5, 6, 7])"
      ]
     },
     "execution_count": 69,
     "metadata": {},
     "output_type": "execute_result"
    }
   ],
   "source": [
    "# extract the 2nd row of the array:\n",
    "b[1,:]"
   ]
  },
  {
   "cell_type": "code",
   "execution_count": 70,
   "metadata": {},
   "outputs": [
    {
     "data": {
      "text/plain": [
       "8"
      ]
     },
     "execution_count": 70,
     "metadata": {},
     "output_type": "execute_result"
    }
   ],
   "source": [
    "# The size function tells you how many total elements there are in an array:\n",
    "np.size(b)"
   ]
  },
  {
   "cell_type": "code",
   "execution_count": 71,
   "metadata": {},
   "outputs": [
    {
     "data": {
      "text/plain": [
       "(2, 4)"
      ]
     },
     "execution_count": 71,
     "metadata": {},
     "output_type": "execute_result"
    }
   ],
   "source": [
    "# The shape function shows you its dimensions (i.e., number of rows and columns for 2D arrays):\n",
    "np.shape(b)"
   ]
  },
  {
   "cell_type": "markdown",
   "metadata": {},
   "source": [
    "### More array creation in Numpy ###\n",
    "You can create a linearly spaced array of numbers using the linspace function. The syntax is `linspace(start_point,end_point,number_of_values)`. Linspace will create evenly spaced numbers over a specified interval, including the end_point."
   ]
  },
  {
   "cell_type": "code",
   "execution_count": 72,
   "metadata": {},
   "outputs": [
    {
     "data": {
      "text/plain": [
       "array([  0. ,   2.5,   5. ,   7.5,  10. ])"
      ]
     },
     "execution_count": 72,
     "metadata": {},
     "output_type": "execute_result"
    }
   ],
   "source": [
    "np.linspace(0,10,5)"
   ]
  },
  {
   "cell_type": "code",
   "execution_count": 73,
   "metadata": {},
   "outputs": [
    {
     "data": {
      "text/plain": [
       "array([-5.25      , -3.85111111, -2.45222222, -1.05333333,  0.34555556,\n",
       "        1.74444444,  3.14333333,  4.54222222,  5.94111111,  7.34      ])"
      ]
     },
     "execution_count": 73,
     "metadata": {},
     "output_type": "execute_result"
    }
   ],
   "source": [
    "np.linspace(-5.25,7.34,10)"
   ]
  },
  {
   "cell_type": "markdown",
   "metadata": {},
   "source": [
    "linspace is a great way to evaluate a function for many evenly spaced values. For example, suppose we want to know the value of the sine function from 0 to 360º with a very finely sampled interval:"
   ]
  },
  {
   "cell_type": "code",
   "execution_count": 74,
   "metadata": {},
   "outputs": [
    {
     "data": {
      "text/plain": [
       "array([  0.00000000e+00,   3.24699469e-01,   6.14212713e-01,\n",
       "         8.37166478e-01,   9.69400266e-01,   9.96584493e-01,\n",
       "         9.15773327e-01,   7.35723911e-01,   4.75947393e-01,\n",
       "         1.64594590e-01,  -1.64594590e-01,  -4.75947393e-01,\n",
       "        -7.35723911e-01,  -9.15773327e-01,  -9.96584493e-01,\n",
       "        -9.69400266e-01,  -8.37166478e-01,  -6.14212713e-01,\n",
       "        -3.24699469e-01,  -2.44929360e-16])"
      ]
     },
     "execution_count": 74,
     "metadata": {},
     "output_type": "execute_result"
    }
   ],
   "source": [
    "degs = np.linspace(0,360,20)\n",
    "rads = np.deg2rad(degs) \n",
    "np.sin(rads)"
   ]
  },
  {
   "cell_type": "code",
   "execution_count": 75,
   "metadata": {},
   "outputs": [
    {
     "data": {
      "text/plain": [
       "array([  0.00000000e+00,   3.24699469e-01,   6.14212713e-01,\n",
       "         8.37166478e-01,   9.69400266e-01,   9.96584493e-01,\n",
       "         9.15773327e-01,   7.35723911e-01,   4.75947393e-01,\n",
       "         1.64594590e-01,  -1.64594590e-01,  -4.75947393e-01,\n",
       "        -7.35723911e-01,  -9.15773327e-01,  -9.96584493e-01,\n",
       "        -9.69400266e-01,  -8.37166478e-01,  -6.14212713e-01,\n",
       "        -3.24699469e-01,  -2.44929360e-16])"
      ]
     },
     "execution_count": 75,
     "metadata": {},
     "output_type": "execute_result"
    }
   ],
   "source": [
    "# In python this could also be accomplished using a single line of nested commands:\n",
    "np.sin(np.deg2rad(np.linspace(0,360,20)))"
   ]
  },
  {
   "cell_type": "markdown",
   "metadata": {},
   "source": [
    "---\n",
    "## Making plots with Matplotlib\n",
    "Matplotlib is a library for making plots and figures. If you've used MATLAB before, you will recognize some of the syntax and commands used in matplotlib.\n",
    "\n",
    "First we need to import the package, but only the plotting parts we need. Also we need to tell Jupyter to make figures as inline figures that will appear in the notebook."
   ]
  },
  {
   "cell_type": "code",
   "execution_count": 76,
   "metadata": {},
   "outputs": [],
   "source": [
    "from matplotlib import pyplot as plt\n",
    "%matplotlib inline"
   ]
  },
  {
   "cell_type": "code",
   "execution_count": 77,
   "metadata": {},
   "outputs": [
    {
     "data": {
      "image/png": "[encoded data removed]",
      "text/plain": [
       "<matplotlib.figure.Figure at 0x10ce644a8>"
      ]
     },
     "metadata": {},
     "output_type": "display_data"
    }
   ],
   "source": [
    "# a simple plot of a list of numbers:\n",
    "plt.plot([1,2,3,4])\n",
    "plt.show()"
   ]
  },
  {
   "cell_type": "code",
   "execution_count": 78,
   "metadata": {},
   "outputs": [
    {
     "data": {
      "image/png": "[encoded data removed]",
      "text/plain": [
       "<matplotlib.figure.Figure at 0x10ce7eeb8>"
      ]
     },
     "metadata": {},
     "output_type": "display_data"
    }
   ],
   "source": [
    "# a better version that has a title and axes labels:\n",
    "n = 10\n",
    "x = np.linspace(-5,5,n)\n",
    "y = x**2\n",
    "plt.plot(x,y)\n",
    "plt.xlabel('this is the x axis')\n",
    "plt.ylabel('this is the y axis')\n",
    "plt.title('this is the title')\n",
    "plt.show()"
   ]
  },
  {
   "cell_type": "code",
   "execution_count": 79,
   "metadata": {},
   "outputs": [
    {
     "data": {
      "image/png": "[encoded data removed]",
      "text/plain": [
       "<matplotlib.figure.Figure at 0x110e51630>"
      ]
     },
     "metadata": {},
     "output_type": "display_data"
    }
   ],
   "source": [
    "# same plot but with markers for each data value.\n",
    "n = 10\n",
    "x = np.linspace(-5,5,n)\n",
    "y = x**2\n",
    "plt.plot(x,y,'ko-')\n",
    "plt.xlabel('this is the x axis')\n",
    "plt.ylabel('this is the y axis')\n",
    "plt.title('this is the title')\n",
    "plt.show()"
   ]
  },
  {
   "cell_type": "code",
   "execution_count": 80,
   "metadata": {},
   "outputs": [
    {
     "data": {
      "image/png": "[encoded data removed]",
      "text/plain": [
       "<matplotlib.figure.Figure at 0x110f783c8>"
      ]
     },
     "metadata": {},
     "output_type": "display_data"
    }
   ],
   "source": [
    "# red dashes, blue squares and green triangles\n",
    "t = np.linspace(0,5,20)\n",
    "plt.plot(t, t, 'r--', t, t**2, 'bs', t, t**3, 'g^')\n",
    "plt.show()"
   ]
  },
  {
   "cell_type": "code",
   "execution_count": 81,
   "metadata": {},
   "outputs": [
    {
     "data": {
      "image/png": "[encoded data removed]",
      "text/plain": [
       "<matplotlib.figure.Figure at 0x110f9c470>"
      ]
     },
     "metadata": {},
     "output_type": "display_data"
    }
   ],
   "source": [
    "# same as the above plot, but now with a log10 scale axes rather than linear axes:\n",
    "t = np.logspace(-1,3,25)  # note the new \"logspace\" command here\n",
    "plt.loglog(t, t, 'r--', t, t**2, 'bs', t, t**3, 'g^')\n",
    "plt.grid()\n",
    "plt.show()"
   ]
  },
  {
   "cell_type": "code",
   "execution_count": 82,
   "metadata": {},
   "outputs": [
    {
     "data": {
      "image/png": "[encoded data removed]",
      "text/plain": [
       "<matplotlib.figure.Figure at 0x110f92978>"
      ]
     },
     "metadata": {},
     "output_type": "display_data"
    }
   ],
   "source": [
    "# same plot but know with a legend:\n",
    "t = np.logspace(-1,3,25)  # note the new \"logspace\" command here\n",
    "plt.loglog(t, t,    'r--',label='t')\n",
    "plt.loglog(t, t**2, 'bs' ,label='t**2')\n",
    "plt.loglog(t, t**3, 'g^' ,label='t**3')\n",
    "plt.grid()\n",
    "plt.legend()\n",
    "plt.show()"
   ]
  },
  {
   "cell_type": "code",
   "execution_count": 83,
   "metadata": {},
   "outputs": [
    {
     "data": {
      "image/png": "[encoded data removed]",
      "text/plain": [
       "<matplotlib.figure.Figure at 0x110e514a8>"
      ]
     },
     "metadata": {},
     "output_type": "display_data"
    }
   ],
   "source": [
    "# same plot but now changing its size:\n",
    "t = np.logspace(-1,3,25)  # note the new \"logspace\" command here\n",
    "plt.figure(figsize=(12,8))\n",
    "plt.loglog(t, t,    'r--',label='t')\n",
    "plt.loglog(t, t**2, 'bs' ,label='t**2')\n",
    "plt.loglog(t, t**3, 'g^' ,label='t**3')\n",
    "plt.grid()\n",
    "plt.legend()\n",
    "plt.show()"
   ]
  },
  {
   "cell_type": "code",
   "execution_count": 84,
   "metadata": {},
   "outputs": [
    {
     "data": {
      "image/png": "[encoded data removed]",
      "text/plain": [
       "<matplotlib.figure.Figure at 0x1112c3e10>"
      ]
     },
     "metadata": {},
     "output_type": "display_data"
    }
   ],
   "source": [
    "# log scale on x axis only:\n",
    "t = np.logspace(-1,3,25)  # note the new \"semilogx\" command here\n",
    "plt.figure(figsize=(12,8))\n",
    "plt.semilogx(t, t,    'r--',label='t')\n",
    "plt.semilogx(t, t**2, 'bs' ,label='t**2')\n",
    "plt.semilogx(t, t**3, 'g^' ,label='t**3')\n",
    "plt.grid()\n",
    "plt.legend()\n",
    "plt.show()"
   ]
  },
  {
   "cell_type": "code",
   "execution_count": 85,
   "metadata": {},
   "outputs": [
    {
     "data": {
      "image/png": "[encoded data removed]",
      "text/plain": [
       "<matplotlib.figure.Figure at 0x116554470>"
      ]
     },
     "metadata": {},
     "output_type": "display_data"
    }
   ],
   "source": [
    "# log scale on y axis only:\n",
    "t = np.logspace(-1,3,25)  # note the new \"semilogy\" command here\n",
    "plt.figure(figsize=(12,8))\n",
    "plt.semilogy(t, t,    'r--',label='t')\n",
    "plt.semilogy(t, t**2, 'bs' ,label='t**2')\n",
    "plt.semilogy(t, t**3, 'g^' ,label='t**3')\n",
    "plt.grid()\n",
    "plt.legend()\n",
    "plt.show()"
   ]
  }
 ],
 "metadata": {
  "kernelspec": {
   "display_name": "Python 3",
   "language": "python",
   "name": "python3"
  },
  "language_info": {
   "codemirror_mode": {
    "name": "ipython",
    "version": 3
   },
   "file_extension": ".py",
   "mimetype": "text/x-python",
   "name": "python",
   "nbconvert_exporter": "python",
   "pygments_lexer": "ipython3",
   "version": "3.6.4"
  }
 },
 "nbformat": 4,
 "nbformat_minor": 2
}
