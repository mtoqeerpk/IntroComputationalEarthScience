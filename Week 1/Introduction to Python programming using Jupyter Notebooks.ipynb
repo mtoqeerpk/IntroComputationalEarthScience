{
 "cells": [
  {
   "cell_type": "markdown",
   "metadata": {},
   "source": [
    "The lessons for this course are designed for students without any prior Python experience. Thus they are a good starting place. However, I highly encourage you to look at other tutorials online. There are lots of them. There are almost always more ways than one to accomplish a certain programming task, and some methods are much better than others. So its good to learn from more than one source.  \n",
    "\n",
    "Here is the [official python tutorial](https://docs.python.org/3/tutorial/).\n",
    "\n",
    "Another good introductory tutorial is available at the Software Carpenty website: http://swcarpentry.github.io/python-novice-inflammation/\n",
    "\n",
    "## Warning about Python Versions ##\n",
    "There are two versions of the python language out there: Python 2 and Python 3. Python 2 is more common in the wild but is now depracated.  We will be using Python 3 in this course. However, be aware that Python 2 is out there; outside of this course you may come across older codes that rely on Python 2 commands that are have been modified for or are no longer available in Python 3.\n",
    "\n",
    "## Jupyter Notebooks## \n",
    "There are two main ways to run Python. You can create a list of Python commands in a text file and then run them by passing the contents of the text file to Python using a command window (aka a terminal shell). The other way, which we will use for this class, is to run an interactive Python (aka iPython) window. Here we will use a Jupyter Notebook, which is what this page is (with extension .ipynb - short for iPython notebook). The notebook is great when you are creating short codes for teaching and tutorials, since you can execute code line by line and intersperse the commands with text sections (like this one) as well as displaying figures and graphics inline in the notebook.\n",
    "\n",
    "You can startup the Jupyter notebook application by opening Anaconda Navigator on your computer, clicking the home button, then the launch button under the Jupyter Notebook panel. This will open up a terminal shell, which then opens up a web browser window running Jupyter. While all of our interactive coding will be done using the web broswer, it is important that you don't close the terminal shell, since it is required to keep Jupyter running.\n",
    "\n",
    "Click on the \"new\" button near the upper right to create a new Python 3 notebook, like this one.\n",
    "\n",
    "---\n",
    "\n",
    "## Entering Commands ##\n",
    "\n",
    "The notebook works by entering commands into cells. You then hit \"shift-return\" to tell Jupyter to execute the commands in the currently selected cell.  By default cells are *Code* cells, where Jupyter expects the cell to contain Python commands. However, you can use the Cell menu to change the Cell Type to *Markdown*, which is a simple text format and what is used to make the text in this cell.\n",
    "\n",
    "---\n",
    "\n",
    "## Simple Math##\n",
    "You can use this notebook as a simple calculator. For example:"
   ]
  },
  {
   "cell_type": "code",
   "execution_count": 1,
   "metadata": {},
   "outputs": [
    {
     "data": {
      "text/plain": [
       "-1"
      ]
     },
     "execution_count": 1,
     "metadata": {},
     "output_type": "execute_result"
    }
   ],
   "source": [
    "1+2-4"
   ]
  },
  {
   "cell_type": "code",
   "execution_count": 2,
   "metadata": {},
   "outputs": [
    {
     "data": {
      "text/plain": [
       "3"
      ]
     },
     "execution_count": 2,
     "metadata": {},
     "output_type": "execute_result"
    }
   ],
   "source": [
    "# Addition\n",
    "1+2"
   ]
  },
  {
   "cell_type": "code",
   "execution_count": 3,
   "metadata": {},
   "outputs": [],
   "source": [
    "# Note that anything to the right of a # symbol is considered comment and will be ignored by Python.\n",
    "# This line is another comment line. "
   ]
  },
  {
   "cell_type": "code",
   "execution_count": 4,
   "metadata": {},
   "outputs": [
    {
     "data": {
      "text/plain": [
       "6"
      ]
     },
     "execution_count": 4,
     "metadata": {},
     "output_type": "execute_result"
    }
   ],
   "source": [
    "# Multiplication \n",
    "2*3"
   ]
  },
  {
   "cell_type": "code",
   "execution_count": 5,
   "metadata": {},
   "outputs": [
    {
     "data": {
      "text/plain": [
       "0.3333333333333333"
      ]
     },
     "execution_count": 5,
     "metadata": {},
     "output_type": "execute_result"
    }
   ],
   "source": [
    "# Division\n",
    "1/3"
   ]
  },
  {
   "cell_type": "markdown",
   "metadata": {},
   "source": [
    "Python will strictly follow mathematical order of operations. Remember PEMDAS:\n",
    "- Parentheses\n",
    "- Exponents\n",
    "- Multiplication and Division\n",
    "- Addition and Subtraction\n",
    "\n",
    "For example:"
   ]
  },
  {
   "cell_type": "code",
   "execution_count": 6,
   "metadata": {},
   "outputs": [
    {
     "data": {
      "text/plain": [
       "17"
      ]
     },
     "execution_count": 6,
     "metadata": {},
     "output_type": "execute_result"
    }
   ],
   "source": [
    "4+5*3-2"
   ]
  },
  {
   "cell_type": "code",
   "execution_count": 7,
   "metadata": {},
   "outputs": [
    {
     "data": {
      "text/plain": [
       "9"
      ]
     },
     "execution_count": 7,
     "metadata": {},
     "output_type": "execute_result"
    }
   ],
   "source": [
    "4+5*(3-2)"
   ]
  },
  {
   "cell_type": "markdown",
   "metadata": {},
   "source": [
    "Python ignores spaced between the values and the operators. For example, the command below produces the same answer as the command above."
   ]
  },
  {
   "cell_type": "code",
   "execution_count": 8,
   "metadata": {},
   "outputs": [
    {
     "data": {
      "text/plain": [
       "9"
      ]
     },
     "execution_count": 8,
     "metadata": {},
     "output_type": "execute_result"
    }
   ],
   "source": [
    "4 + 5 * (3 -2)"
   ]
  },
  {
   "cell_type": "markdown",
   "metadata": {},
   "source": [
    "You can also break up a long equation into more than one line using the backslash symbol \\ at the end of each line. This tells Python that your commands continue onto the next line."
   ]
  },
  {
   "cell_type": "code",
   "execution_count": 9,
   "metadata": {},
   "outputs": [
    {
     "data": {
      "text/plain": [
       "9"
      ]
     },
     "execution_count": 9,
     "metadata": {},
     "output_type": "execute_result"
    }
   ],
   "source": [
    "4 + 5 \\\n",
    "*(3-2)"
   ]
  },
  {
   "cell_type": "markdown",
   "metadata": {},
   "source": [
    "Exponents (or powers) are specified use two asterisks like this: **. For example, to raise two to the power 3, i.e. $2^3$, you use:"
   ]
  },
  {
   "cell_type": "code",
   "execution_count": 10,
   "metadata": {},
   "outputs": [
    {
     "data": {
      "text/plain": [
       "8"
      ]
     },
     "execution_count": 10,
     "metadata": {},
     "output_type": "execute_result"
    }
   ],
   "source": [
    "2**3"
   ]
  },
  {
   "cell_type": "markdown",
   "metadata": {},
   "source": [
    "You can also use decimal exponents. For example to compute $25^{\\frac{1}{2}}$:"
   ]
  },
  {
   "cell_type": "code",
   "execution_count": 11,
   "metadata": {},
   "outputs": [
    {
     "data": {
      "text/plain": [
       "5.0"
      ]
     },
     "execution_count": 11,
     "metadata": {},
     "output_type": "execute_result"
    }
   ],
   "source": [
    "25**0.5"
   ]
  },
  {
   "cell_type": "code",
   "execution_count": 12,
   "metadata": {},
   "outputs": [
    {
     "data": {
      "text/plain": [
       "12.5"
      ]
     },
     "execution_count": 12,
     "metadata": {},
     "output_type": "execute_result"
    }
   ],
   "source": [
    "# Be careful when using fractions as exponents:\n",
    "25**1/2"
   ]
  },
  {
   "cell_type": "code",
   "execution_count": 13,
   "metadata": {},
   "outputs": [
    {
     "data": {
      "text/plain": [
       "5.0"
      ]
     },
     "execution_count": 13,
     "metadata": {},
     "output_type": "execute_result"
    }
   ],
   "source": [
    "# that was not intended! Remember PEMDAS. The exponent is computed before the division.\n",
    "# Use parentheses instead to get the intended square root:\n",
    "25**(1/2)"
   ]
  },
  {
   "cell_type": "code",
   "execution_count": 14,
   "metadata": {},
   "outputs": [
    {
     "data": {
      "text/plain": [
       "1"
      ]
     },
     "execution_count": 14,
     "metadata": {},
     "output_type": "execute_result"
    }
   ],
   "source": [
    "# you can round numbers using:\n",
    "round(2/3)"
   ]
  },
  {
   "cell_type": "markdown",
   "metadata": {},
   "source": [
    "You can also use scientific notation for numbers. In most programming languages, the character e (or E) is shorthand for ten to some power, such as $10^x$. For example,  $10^6$ can be entered as 1e6."
   ]
  },
  {
   "cell_type": "code",
   "execution_count": 15,
   "metadata": {},
   "outputs": [
    {
     "data": {
      "text/plain": [
       "1000000.0"
      ]
     },
     "execution_count": 15,
     "metadata": {},
     "output_type": "execute_result"
    }
   ],
   "source": [
    "1e6"
   ]
  },
  {
   "cell_type": "code",
   "execution_count": 16,
   "metadata": {},
   "outputs": [
    {
     "data": {
      "text/plain": [
       "1000000.0"
      ]
     },
     "execution_count": 16,
     "metadata": {},
     "output_type": "execute_result"
    }
   ],
   "source": [
    "# or you could use this syntax, but it requires a typing three more characters:\n",
    "10.**6"
   ]
  },
  {
   "cell_type": "code",
   "execution_count": 17,
   "metadata": {},
   "outputs": [
    {
     "data": {
      "text/plain": [
       "745189124981.0"
      ]
     },
     "execution_count": 17,
     "metadata": {},
     "output_type": "execute_result"
    }
   ],
   "source": [
    "# or the more complicated number 745,189,124,981:\n",
    ".745189124981e12"
   ]
  },
  {
   "cell_type": "code",
   "execution_count": 18,
   "metadata": {},
   "outputs": [
    {
     "data": {
      "text/plain": [
       "8.85418782e-12"
      ]
     },
     "execution_count": 18,
     "metadata": {},
     "output_type": "execute_result"
    }
   ],
   "source": [
    "# Scientific notation is also helpful for very small numbers:\n",
    "8.85418782e-12"
   ]
  },
  {
   "cell_type": "markdown",
   "metadata": {},
   "source": [
    "---\n",
    "## Number Variables##\n",
    "In computer programming, a variable is used to store data, usually as numbers or characters.  "
   ]
  },
  {
   "cell_type": "code",
   "execution_count": 19,
   "metadata": {},
   "outputs": [],
   "source": [
    "# Here we create variables a and b and assign them some values:\n",
    "a = 4\n",
    "b = 10"
   ]
  },
  {
   "cell_type": "code",
   "execution_count": 20,
   "metadata": {},
   "outputs": [
    {
     "data": {
      "text/plain": [
       "40"
      ]
     },
     "execution_count": 20,
     "metadata": {},
     "output_type": "execute_result"
    }
   ],
   "source": [
    "# then we can use the variables in calculations:\n",
    "a*b"
   ]
  },
  {
   "cell_type": "code",
   "execution_count": 21,
   "metadata": {},
   "outputs": [
    {
     "data": {
      "text/plain": [
       "9"
      ]
     },
     "execution_count": 21,
     "metadata": {},
     "output_type": "execute_result"
    }
   ],
   "source": [
    "a=4; b=5; c=3; d=2\n",
    "a+b*(c-d)"
   ]
  },
  {
   "cell_type": "code",
   "execution_count": 22,
   "metadata": {},
   "outputs": [],
   "source": [
    "# you can also define a variable using other variables:\n",
    "c = a*b"
   ]
  },
  {
   "cell_type": "code",
   "execution_count": 23,
   "metadata": {},
   "outputs": [
    {
     "name": "stdout",
     "output_type": "stream",
     "text": [
      "20\n"
     ]
    }
   ],
   "source": [
    "# Use the print function to see the value of c:\n",
    "print(c)"
   ]
  },
  {
   "cell_type": "code",
   "execution_count": 24,
   "metadata": {},
   "outputs": [
    {
     "data": {
      "text/plain": [
       "2"
      ]
     },
     "execution_count": 24,
     "metadata": {},
     "output_type": "execute_result"
    }
   ],
   "source": [
    "# You can reassign existing variables:\n",
    "a = 1\n",
    "b = 2\n",
    "a*b"
   ]
  },
  {
   "cell_type": "code",
   "execution_count": 25,
   "metadata": {},
   "outputs": [
    {
     "name": "stdout",
     "output_type": "stream",
     "text": [
      "Variable   Type    Data/Info\n",
      "----------------------------\n",
      "a          int     1\n",
      "b          int     2\n",
      "c          int     20\n",
      "d          int     2\n"
     ]
    }
   ],
   "source": [
    "# Use the %whos command to see what variables currently exist in iPython's memory:\n",
    "%whos"
   ]
  },
  {
   "cell_type": "code",
   "execution_count": 26,
   "metadata": {},
   "outputs": [],
   "source": [
    "# occasionally you may want to delete one or more variables. Use the del command:\n",
    "del a, b\n"
   ]
  },
  {
   "cell_type": "code",
   "execution_count": 27,
   "metadata": {},
   "outputs": [
    {
     "name": "stdout",
     "output_type": "stream",
     "text": [
      "Variable   Type    Data/Info\n",
      "----------------------------\n",
      "c          int     20\n",
      "d          int     2\n"
     ]
    }
   ],
   "source": [
    "%whos"
   ]
  },
  {
   "cell_type": "code",
   "execution_count": 28,
   "metadata": {},
   "outputs": [
    {
     "name": "stdout",
     "output_type": "stream",
     "text": [
      "11\n"
     ]
    }
   ],
   "source": [
    "# You can also update the value of a variable using its current value along with \n",
    "# one or more mathematical operations: \n",
    "i = 10\n",
    "i = i + 1\n",
    "print(i)"
   ]
  },
  {
   "cell_type": "markdown",
   "metadata": {},
   "source": [
    "Note that variable names are case sensitive. *A* is a different variable than *a*:"
   ]
  },
  {
   "cell_type": "code",
   "execution_count": 31,
   "metadata": {},
   "outputs": [
    {
     "ename": "NameError",
     "evalue": "name 'A' is not defined",
     "output_type": "error",
     "traceback": [
      "\u001b[0;31m---------------------------------------------------------------------------\u001b[0m",
      "\u001b[0;31mNameError\u001b[0m                                 Traceback (most recent call last)",
      "\u001b[0;32m<ipython-input-31-7d157d7c000a>\u001b[0m in \u001b[0;36m<module>\u001b[0;34m()\u001b[0m\n\u001b[0;32m----> 1\u001b[0;31m \u001b[0mA\u001b[0m\u001b[0;34m\u001b[0m\u001b[0m\n\u001b[0m",
      "\u001b[0;31mNameError\u001b[0m: name 'A' is not defined"
     ]
    }
   ],
   "source": [
    "A"
   ]
  },
  {
   "cell_type": "markdown",
   "metadata": {},
   "source": [
    "Variable names must begin with a letter and not a number, but after the first character they can have any combinations of letters and numbers, as well as underscores _. You can not use any other character in a variable name.\n",
    "\n",
    "In general, its a good idea to pick variable names that will help you understand what your code is doing. This is especially important when you have tens or hundreds of variables in a code or when you code may be hundreds or thousands of lines long and keeping track of what each variable does could be challenging; use its name offer  a helpful clue.\n",
    "\n",
    "**Good variable names:**\n",
    "\n",
    "- soundSpeed\n",
    "- initial_temperature\n",
    "- oceanDepth\n",
    "- a\n",
    "- b\n",
    "- c\n",
    "\n",
    "\n",
    "**Bad/confusing variable names:**\n",
    "\n",
    "- soSp\n",
    "- in_tem\n",
    "- a13492\n",
    "- variableNamesThatAreReallyReallyReallyLong\n",
    "\n",
    "\n",
    "\n",
    "** Illegal variable names: **\n",
    "\n",
    "- 1alpha\n",
    "- .nope\n",
    "- #NotGoingToWork\n",
    "- IAm.An.Illegal.Variable\n",
    "\n"
   ]
  },
  {
   "cell_type": "code",
   "execution_count": 37,
   "metadata": {},
   "outputs": [
    {
     "ename": "NameError",
     "evalue": "name 'IAm' is not defined",
     "output_type": "error",
     "traceback": [
      "\u001b[0;31m---------------------------------------------------------------------------\u001b[0m",
      "\u001b[0;31mNameError\u001b[0m                                 Traceback (most recent call last)",
      "\u001b[0;32m<ipython-input-37-2b7011784193>\u001b[0m in \u001b[0;36m<module>\u001b[0;34m()\u001b[0m\n\u001b[0;32m----> 1\u001b[0;31m \u001b[0mIAm\u001b[0m\u001b[0;34m.\u001b[0m\u001b[0mAn\u001b[0m\u001b[0;34m.\u001b[0m\u001b[0mIllegal\u001b[0m\u001b[0;34m.\u001b[0m\u001b[0mVariable\u001b[0m\u001b[0;34m\u001b[0m\u001b[0m\n\u001b[0m",
      "\u001b[0;31mNameError\u001b[0m: name 'IAm' is not defined"
     ]
    }
   ],
   "source": []
  },
  {
   "cell_type": "code",
   "execution_count": null,
   "metadata": {},
   "outputs": [],
   "source": []
  }
 ],
 "metadata": {
  "kernelspec": {
   "display_name": "Python 3",
   "language": "python",
   "name": "python3"
  },
  "language_info": {
   "codemirror_mode": {
    "name": "ipython",
    "version": 3
   },
   "file_extension": ".py",
   "mimetype": "text/x-python",
   "name": "python",
   "nbconvert_exporter": "python",
   "pygments_lexer": "ipython3",
   "version": "3.6.4"
  }
 },
 "nbformat": 4,
 "nbformat_minor": 2
}
