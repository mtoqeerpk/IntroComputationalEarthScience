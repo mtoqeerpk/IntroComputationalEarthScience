{
 "cells": [
  {
   "cell_type": "markdown",
   "metadata": {},
   "source": [
    "The lessons for this course are designed for students without any prior Python experience. Thus they are a good starting place. However, I highly encourage you to look at other tutorials online. There are lots of them. There are almost always more ways than one to accomplish a certain programming task, and so its good to learn from more than one source.  \n",
    "\n",
    "Here is the [official python tutorial](https://docs.python.org/3/tutorial/).\n",
    "\n",
    "Another good introductory tutorial is available at the Software Carpenty website: http://swcarpentry.github.io/python-novice-inflammation/\n",
    "\n",
    "## Warning about Python Versions ##\n",
    "There are two versions of the python language out there: Python 2 and Python 3. Python 2 is more common in the wild but is now depracated.  We will be using Python 3 in this course. However, be aware that Python 2 is out there; outside of this course you may come across older codes that rely on Python 2 commands that are have been modified for or are no longer available in Python 3.\n",
    "\n",
    "## Jupyter Notebooks## \n",
    "There are two main ways to run Python. You can create a list of Python commands in a text file and then run them by passing the contents of the text file to Python using a command window (aka a terminal shell). The other way, which we will use for this class, is to run an interactive Python (aka iPython) window. Here we will use a Jupyter Notebook, which is what this page is (with extension .ipynb - short for iPython notebook). The notebook is great when you are creating short codes for teaching and tutorials, since you can execute code line by line and intersperse the commands with text sections (like this one) as well as displaying figures and graphics inline in the notebook.\n",
    "\n",
    "You can startup the Jupter notebook application by opening Anaconda Navigator on your computer, clicking the home button, then the launch button under the Jupyter Notebook panel. This will open up a terminal shell, which then opens up a web browser window running Jupyter. While all of our interactive coding will be done using the web broswer, it is important that you don't close the terminal shell, since it is required to keep Jupyter running.\n",
    "\n",
    "Click on the \"new\" button near the upper right to create a new Python 3 notebook, like this one.\n",
    "\n",
    "The notebook works by entering commands into cells. You then hit \"shift-return\" to tell Jupyter to execute the commands in the currently selected cell.  By default cells are 'Code\" cells, meaning Jupyter expects there to be Python commands. However, you can use the Cell menu to change the Cell Type to \"Markdown\", which is a simple text format and what is used for this cell.\n"
   ]
  },
  {
   "cell_type": "markdown",
   "metadata": {},
   "source": []
  },
  {
   "cell_type": "markdown",
   "metadata": {},
   "source": [
    "\n"
   ]
  },
  {
   "cell_type": "code",
   "execution_count": null,
   "metadata": {},
   "outputs": [],
   "source": []
  }
 ],
 "metadata": {
  "kernelspec": {
   "display_name": "Python 3",
   "language": "python",
   "name": "python3"
  },
  "language_info": {
   "codemirror_mode": {
    "name": "ipython",
    "version": 3
   },
   "file_extension": ".py",
   "mimetype": "text/x-python",
   "name": "python",
   "nbconvert_exporter": "python",
   "pygments_lexer": "ipython3",
   "version": "3.6.4"
  }
 },
 "nbformat": 4,
 "nbformat_minor": 2
}
